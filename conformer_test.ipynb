{
 "cells": [
  {
   "cell_type": "code",
   "execution_count": 1,
   "metadata": {
    "collapsed": true
   },
   "outputs": [],
   "source": [
    "import os\n",
    "import numpy as np\n",
    "from src.utils import read_eeg_signal_from_file\n",
    "\n",
    "labels = []\n",
    "data = []\n",
    "baseline = []\n",
    "\n",
    "data_path = 'data/data_preprocessed_python'\n",
    "\n",
    "for filename in os.listdir('data/data_preprocessed_python'):\n",
    "    file_path = os.path.join(data_path, filename)\n",
    "    trial = read_eeg_signal_from_file(file_path)\n",
    "    labels.append(trial['labels'])\n",
    "    data.append(trial['data'][:, :32, :])  # leave only eeg channels\n",
    "\n",
    "labels = np.array(labels)\n",
    "data = np.array(data)"
   ]
  },
  {
   "cell_type": "code",
   "execution_count": 3,
   "outputs": [
    {
     "data": {
      "text/plain": "(32, 40, 32, 8064)"
     },
     "execution_count": 3,
     "metadata": {},
     "output_type": "execute_result"
    }
   ],
   "source": [
    "data.shape"
   ],
   "metadata": {
    "collapsed": false
   }
  },
  {
   "cell_type": "code",
   "execution_count": 5,
   "outputs": [
    {
     "data": {
      "text/plain": "(32, 40, 4)"
     },
     "execution_count": 5,
     "metadata": {},
     "output_type": "execute_result"
    }
   ],
   "source": [
    "labels.shape"
   ],
   "metadata": {
    "collapsed": false
   }
  },
  {
   "cell_type": "code",
   "execution_count": 6,
   "outputs": [],
   "source": [
    "x_train = data[:,:32,:,:]\n",
    "y_train = labels[:,:32,:]\n",
    "\n",
    "x_test = data[:,32:,:,:]\n",
    "y_test = labels[:,32:,:]"
   ],
   "metadata": {
    "collapsed": false
   }
  },
  {
   "cell_type": "code",
   "execution_count": 7,
   "outputs": [
    {
     "data": {
      "text/plain": "(32, 32, 32, 8064)"
     },
     "execution_count": 7,
     "metadata": {},
     "output_type": "execute_result"
    }
   ],
   "source": [
    "x_train.shape"
   ],
   "metadata": {
    "collapsed": false
   }
  },
  {
   "cell_type": "code",
   "execution_count": 8,
   "outputs": [],
   "source": [
    "def get_source_data(data, labels):\n",
    "    x_train = data[:,:32,:,:]\n",
    "    y_train = labels[:,:32,:]\n",
    "    x_test = data[:,32:,:,:]\n",
    "    y_test = labels[:,32:,:]\n",
    "\n",
    "    train_data = x_train.reshape((-1, 32, 32, 8064))\n",
    "    train_label = y_train.reshape((-1, 32, 8064))\n",
    "\n",
    "    train_data = np.transpose(train_data, (2, 1, 0))\n",
    "    train_data = np.expand_dims(train_data, axis=1)\n",
    "    train_label = np.transpose(train_label)\n",
    "\n",
    "    allData = train_data\n",
    "    allLabel = train_label[0]\n",
    "\n",
    "    shuffle_num = np.random.permutation(len(allData))\n",
    "    allData = allData[shuffle_num, :, :, :]\n",
    "    allLabel = allLabel[shuffle_num]\n",
    "\n",
    "    # test data\n",
    "    test_data = x_test\n",
    "    test_label = y_test\n",
    "\n",
    "    test_data = np.transpose(test_data, (2, 1, 0))\n",
    "    test_data = np.expand_dims(test_data, axis=1)\n",
    "    test_label = np.transpose(test_label)\n",
    "\n",
    "    testData = test_data\n",
    "    testLabel = test_label[0]\n",
    "\n",
    "    # standardize\n",
    "    target_mean = np.mean(allData)\n",
    "    target_std = np.std(allData)\n",
    "    allData = (allData - target_mean) / target_std\n",
    "    testData = (testData - target_mean) / target_std\n",
    "\n",
    "    # data shape: (trial, conv channel, electrode channel, time samples)\n",
    "    return allData, allLabel, testData, testLabel"
   ],
   "metadata": {
    "collapsed": false
   }
  },
  {
   "cell_type": "code",
   "execution_count": 11,
   "outputs": [
    {
     "ename": "ValueError",
     "evalue": "axes don't match array",
     "output_type": "error",
     "traceback": [
      "\u001B[1;31m---------------------------------------------------------------------------\u001B[0m",
      "\u001B[1;31mValueError\u001B[0m                                Traceback (most recent call last)",
      "Cell \u001B[1;32mIn[11], line 1\u001B[0m\n\u001B[1;32m----> 1\u001B[0m \u001B[43mget_source_data\u001B[49m\u001B[43m(\u001B[49m\u001B[43mdata\u001B[49m\u001B[43m,\u001B[49m\u001B[43m \u001B[49m\u001B[43mlabels\u001B[49m\u001B[43m)\u001B[49m\n",
      "Cell \u001B[1;32mIn[8], line 10\u001B[0m, in \u001B[0;36mget_source_data\u001B[1;34m(data, labels)\u001B[0m\n\u001B[0;32m      7\u001B[0m train_data \u001B[38;5;241m=\u001B[39m x_train\n\u001B[0;32m      8\u001B[0m train_label \u001B[38;5;241m=\u001B[39m y_train\n\u001B[1;32m---> 10\u001B[0m train_data \u001B[38;5;241m=\u001B[39m \u001B[43mnp\u001B[49m\u001B[38;5;241;43m.\u001B[39;49m\u001B[43mtranspose\u001B[49m\u001B[43m(\u001B[49m\u001B[43mtrain_data\u001B[49m\u001B[43m,\u001B[49m\u001B[43m \u001B[49m\u001B[43m(\u001B[49m\u001B[38;5;241;43m2\u001B[39;49m\u001B[43m,\u001B[49m\u001B[43m \u001B[49m\u001B[38;5;241;43m1\u001B[39;49m\u001B[43m,\u001B[49m\u001B[43m \u001B[49m\u001B[38;5;241;43m0\u001B[39;49m\u001B[43m)\u001B[49m\u001B[43m)\u001B[49m\n\u001B[0;32m     11\u001B[0m train_data \u001B[38;5;241m=\u001B[39m np\u001B[38;5;241m.\u001B[39mexpand_dims(train_data, axis\u001B[38;5;241m=\u001B[39m\u001B[38;5;241m1\u001B[39m)\n\u001B[0;32m     12\u001B[0m train_label \u001B[38;5;241m=\u001B[39m np\u001B[38;5;241m.\u001B[39mtranspose(train_label)\n",
      "File \u001B[1;32m<__array_function__ internals>:200\u001B[0m, in \u001B[0;36mtranspose\u001B[1;34m(*args, **kwargs)\u001B[0m\n",
      "File \u001B[1;32m~\\anaconda3\\envs\\torch-11.7\\lib\\site-packages\\numpy\\core\\fromnumeric.py:668\u001B[0m, in \u001B[0;36mtranspose\u001B[1;34m(a, axes)\u001B[0m\n\u001B[0;32m    601\u001B[0m \u001B[38;5;129m@array_function_dispatch\u001B[39m(_transpose_dispatcher)\n\u001B[0;32m    602\u001B[0m \u001B[38;5;28;01mdef\u001B[39;00m \u001B[38;5;21mtranspose\u001B[39m(a, axes\u001B[38;5;241m=\u001B[39m\u001B[38;5;28;01mNone\u001B[39;00m):\n\u001B[0;32m    603\u001B[0m \u001B[38;5;250m    \u001B[39m\u001B[38;5;124;03m\"\"\"\u001B[39;00m\n\u001B[0;32m    604\u001B[0m \u001B[38;5;124;03m    Returns an array with axes transposed.\u001B[39;00m\n\u001B[0;32m    605\u001B[0m \n\u001B[1;32m   (...)\u001B[0m\n\u001B[0;32m    666\u001B[0m \n\u001B[0;32m    667\u001B[0m \u001B[38;5;124;03m    \"\"\"\u001B[39;00m\n\u001B[1;32m--> 668\u001B[0m     \u001B[38;5;28;01mreturn\u001B[39;00m \u001B[43m_wrapfunc\u001B[49m\u001B[43m(\u001B[49m\u001B[43ma\u001B[49m\u001B[43m,\u001B[49m\u001B[43m \u001B[49m\u001B[38;5;124;43m'\u001B[39;49m\u001B[38;5;124;43mtranspose\u001B[39;49m\u001B[38;5;124;43m'\u001B[39;49m\u001B[43m,\u001B[49m\u001B[43m \u001B[49m\u001B[43maxes\u001B[49m\u001B[43m)\u001B[49m\n",
      "File \u001B[1;32m~\\anaconda3\\envs\\torch-11.7\\lib\\site-packages\\numpy\\core\\fromnumeric.py:57\u001B[0m, in \u001B[0;36m_wrapfunc\u001B[1;34m(obj, method, *args, **kwds)\u001B[0m\n\u001B[0;32m     54\u001B[0m     \u001B[38;5;28;01mreturn\u001B[39;00m _wrapit(obj, method, \u001B[38;5;241m*\u001B[39margs, \u001B[38;5;241m*\u001B[39m\u001B[38;5;241m*\u001B[39mkwds)\n\u001B[0;32m     56\u001B[0m \u001B[38;5;28;01mtry\u001B[39;00m:\n\u001B[1;32m---> 57\u001B[0m     \u001B[38;5;28;01mreturn\u001B[39;00m bound(\u001B[38;5;241m*\u001B[39margs, \u001B[38;5;241m*\u001B[39m\u001B[38;5;241m*\u001B[39mkwds)\n\u001B[0;32m     58\u001B[0m \u001B[38;5;28;01mexcept\u001B[39;00m \u001B[38;5;167;01mTypeError\u001B[39;00m:\n\u001B[0;32m     59\u001B[0m     \u001B[38;5;66;03m# A TypeError occurs if the object does have such a method in its\u001B[39;00m\n\u001B[0;32m     60\u001B[0m     \u001B[38;5;66;03m# class, but its signature is not identical to that of NumPy's. This\u001B[39;00m\n\u001B[1;32m   (...)\u001B[0m\n\u001B[0;32m     64\u001B[0m     \u001B[38;5;66;03m# Call _wrapit from within the except clause to ensure a potential\u001B[39;00m\n\u001B[0;32m     65\u001B[0m     \u001B[38;5;66;03m# exception has a traceback chain.\u001B[39;00m\n\u001B[0;32m     66\u001B[0m     \u001B[38;5;28;01mreturn\u001B[39;00m _wrapit(obj, method, \u001B[38;5;241m*\u001B[39margs, \u001B[38;5;241m*\u001B[39m\u001B[38;5;241m*\u001B[39mkwds)\n",
      "\u001B[1;31mValueError\u001B[0m: axes don't match array"
     ]
    }
   ],
   "source": [
    "get_source_data(data, labels)"
   ],
   "metadata": {
    "collapsed": false
   }
  },
  {
   "cell_type": "code",
   "execution_count": null,
   "outputs": [],
   "source": [],
   "metadata": {
    "collapsed": false
   }
  }
 ],
 "metadata": {
  "kernelspec": {
   "display_name": "Python 3",
   "language": "python",
   "name": "python3"
  },
  "language_info": {
   "codemirror_mode": {
    "name": "ipython",
    "version": 2
   },
   "file_extension": ".py",
   "mimetype": "text/x-python",
   "name": "python",
   "nbconvert_exporter": "python",
   "pygments_lexer": "ipython2",
   "version": "2.7.6"
  }
 },
 "nbformat": 4,
 "nbformat_minor": 0
}
