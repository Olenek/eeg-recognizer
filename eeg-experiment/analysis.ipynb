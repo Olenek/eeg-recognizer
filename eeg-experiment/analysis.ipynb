{
 "cells": [
  {
   "cell_type": "code",
   "execution_count": null,
   "id": "cb9f118f-70d7-4169-b948-e89ba8a7fea9",
   "metadata": {
    "pycharm": {
     "is_executing": true
    }
   },
   "outputs": [],
   "source": [
    "import os\n",
    "# assign directory\n",
    "directory = 'tracks/'\n",
    " \n",
    "# iterate over files in\n",
    "# that directory\n",
    "files = sorted(os.listdir(directory))\n",
    "files"
   ]
  },
  {
   "cell_type": "code",
   "execution_count": null,
   "id": "4a80147e-4c4c-433b-9e67-3b716d1206a6",
   "metadata": {},
   "outputs": [],
   "source": [
    "deaps, generated = files[:16], files[16:]"
   ]
  },
  {
   "cell_type": "code",
   "execution_count": null,
   "id": "aaca353a-70c0-472b-842a-3caecb885cac",
   "metadata": {},
   "outputs": [],
   "source": [
    "def to_float(s):\n",
    "    return float(s[:-1] + '.' + s[-1])"
   ]
  },
  {
   "cell_type": "code",
   "execution_count": null,
   "id": "53e7ba97-8411-4a83-82e3-b52a162eddbb",
   "metadata": {},
   "outputs": [],
   "source": [
    "import pandas as pd\n",
    "\n",
    "df_generated = pd.DataFrame(\n",
    "    {\n",
    "        'track_id': list(map(lambda x: int(x[:2].strip()), generated)),\n",
    "        'Title': list(map(lambda x: x[4:-4].strip(), generated)),\n",
    "        'AVG_Valence': list(map(lambda x: to_float(x[:-4].split('_')[1][1:]), generated)),\n",
    "        'AVG_Arousal': list(map(lambda x: to_float(x[:-4].split('_')[2][1:]), generated))\n",
    "    }\n",
    ").set_index('track_id').sort_index()"
   ]
  },
  {
   "cell_type": "code",
   "execution_count": null,
   "id": "860fed3d-6c64-484e-bed0-77f9f8674efd",
   "metadata": {},
   "outputs": [],
   "source": [
    "df_generated"
   ]
  },
  {
   "cell_type": "code",
   "execution_count": null,
   "id": "ea65ff4b-00d7-423b-878c-aae88ec92dd3",
   "metadata": {},
   "outputs": [],
   "source": [
    "deap_df = pd.read_csv('data/deap_tracks.csv')\n",
    "deap_df"
   ]
  },
  {
   "cell_type": "code",
   "execution_count": null,
   "id": "0dda744e-73e0-4839-a487-e3bd6da66ce1",
   "metadata": {},
   "outputs": [],
   "source": [
    "_df = pd.read_csv('experiment.csv').set_index('track_id').sort_index()"
   ]
  },
  {
   "cell_type": "code",
   "execution_count": null,
   "id": "ba73001f-9ff4-44e4-b93f-dcb27884c909",
   "metadata": {},
   "outputs": [],
   "source": [
    "_df"
   ]
  },
  {
   "cell_type": "code",
   "execution_count": null,
   "id": "ff6e791b-23e2-44f6-98b5-42db56520331",
   "metadata": {},
   "outputs": [],
   "source": [
    "deap_df2 = deap_df.join(_df, how='left', on='track_id')\n",
    "deap_df2['Title'] = (deap_df2['Artist'] + ' - ' + deap_df2['Title']).drop(columns=['STD_Valence', 'STD_Arousal', 'Highlight_start'])\n",
    "deap_df2 = deap_df2.drop(columns=['Artist', 'STD_Valence', 'STD_Arousal', 'Highlight_start']).set_index('track_id')\n",
    "deap_df2"
   ]
  },
  {
   "cell_type": "code",
   "execution_count": null,
   "id": "257748e7-bb29-4513-9f61-8edbe54178b8",
   "metadata": {},
   "outputs": [],
   "source": [
    "generated_df2 = df_generated.join(_df, on='track_id', how='left')\n",
    "generated_df2['Title'] = 'Music Generator' + ' - ' + generated_df2['Title']"
   ]
  },
  {
   "cell_type": "code",
   "execution_count": null,
   "id": "744617db-62aa-4ba8-86ac-f72679d45c75",
   "metadata": {},
   "outputs": [],
   "source": [
    "eeg_experiment_df = pd.concat([deap_df2, generated_df2])\n",
    "eeg_experiment_df"
   ]
  },
  {
   "cell_type": "code",
   "execution_count": null,
   "id": "0deb0580-09e0-4518-8c77-5f891f6f19d7",
   "metadata": {},
   "outputs": [],
   "source": [
    "eeg_experiment_df.to_csv('experiment_preprocessed.csv', index_label='track_id')"
   ]
  },
  {
   "cell_type": "code",
   "execution_count": null,
   "id": "469ec8f9-b28c-4582-898e-6a3865b94850",
   "metadata": {},
   "outputs": [],
   "source": [
    "import plotly.graph_objects as go\n",
    "from plotly.subplots import make_subplots\n",
    "import plotly.io as pio\n",
    "\n",
    "\n",
    "pio.templates.default = \"plotly_white\"\n",
    "fig = go.Figure()\n",
    "\n",
    "\n",
    "fig.add_trace(go.Scatter(x=deap_df2.index, y=deap_df2.V,\n",
    "                    mode='markers',\n",
    "                    name='participant'))\n",
    "fig.add_trace(go.Scatter(x=deap_df2.index, y=deap_df2.AVG_Valence,\n",
    "                    mode='markers',\n",
    "                    name='estimate'))\n",
    "\n",
    "fig.update_yaxes(range=[-1, 1])\n",
    "\n",
    "fig.update_layout(\n",
    "    autosize=False,\n",
    "    width=800,\n",
    "    height=300,\n",
    "    margin=dict(\n",
    "        l=50,\n",
    "        r=50,\n",
    "        b=50,\n",
    "        t=50,\n",
    "        pad=4\n",
    "    ),\n",
    "    title='Valence, DEAP vs Participant'\n",
    ")\n",
    "\n",
    "fig.show()"
   ]
  },
  {
   "cell_type": "code",
   "execution_count": null,
   "outputs": [],
   "source": [
    "fig = go.Figure()\n",
    "\n",
    "fig.add_trace(go.Scatter(x=deap_df2.index, y=deap_df2.A,\n",
    "                    mode='markers',\n",
    "                    name='participant'))\n",
    "fig.add_trace(go.Scatter(x=deap_df2.index, y=deap_df2.AVG_Arousal,\n",
    "                    mode='markers',\n",
    "                    name='estimate'))\n",
    "\n",
    "fig.update_yaxes(range=[-1, 1])\n",
    "\n",
    "fig.update_layout(\n",
    "    autosize=False,\n",
    "    width=800,\n",
    "    height=300,\n",
    "    margin=dict(\n",
    "        l=50,\n",
    "        r=50,\n",
    "        b=50,\n",
    "        t=50,\n",
    "        pad=4\n",
    "    ),\n",
    "    title='Arousal, DEAP vs Participant'\n",
    ")\n",
    "\n",
    "fig.show()"
   ],
   "metadata": {
    "collapsed": false
   }
  },
  {
   "cell_type": "code",
   "execution_count": null,
   "id": "20aedb9a-bc64-460b-b1a8-e4a61a628147",
   "metadata": {},
   "outputs": [],
   "source": [
    "fig = go.Figure()\n",
    "\n",
    "fig.add_trace(go.Scatter(x=generated_df2.index, y=generated_df2.V,\n",
    "                    mode='markers',\n",
    "                    name='participant'))\n",
    "fig.add_trace(go.Scatter(x=generated_df2.index, y=generated_df2.AVG_Valence,\n",
    "                    mode='markers',\n",
    "                    name='generator') )\n",
    "\n",
    "fig.update_yaxes(range=[-1, 1])\n",
    "\n",
    "fig.update_layout(\n",
    "    autosize=False,\n",
    "    width=800,\n",
    "    height=300,\n",
    "    margin=dict(\n",
    "        l=50,\n",
    "        r=50,\n",
    "        b=50,\n",
    "        t=50,\n",
    "        pad=4\n",
    "    ),\n",
    "    title='Valence, Generation Goal vs Participant'\n",
    ")\n",
    "\n",
    "fig.show()"
   ]
  },
  {
   "cell_type": "code",
   "execution_count": null,
   "outputs": [],
   "source": [
    "fig = go.Figure()\n",
    "\n",
    "\n",
    "fig.add_trace(go.Scatter(x=generated_df2.index, y=generated_df2.A,\n",
    "                    mode='markers',\n",
    "                    name='participant'))\n",
    "fig.add_trace(go.Scatter(x=generated_df2.index, y=generated_df2.AVG_Arousal,\n",
    "                    mode='markers',\n",
    "                    name='generator'))\n",
    "\n",
    "fig.update_yaxes(range=[-1, 1])\n",
    "\n",
    "fig.update_layout(\n",
    "    autosize=False,\n",
    "    width=800,\n",
    "    height=300,\n",
    "    margin=dict(\n",
    "        l=50,\n",
    "        r=50,\n",
    "        b=50,\n",
    "        t=50,\n",
    "        pad=4\n",
    "    ),\n",
    "    title='Arousal, Generation Goal vs Participant'\n",
    ")\n",
    "\n",
    "fig.show()"
   ],
   "metadata": {
    "collapsed": false
   }
  },
  {
   "cell_type": "code",
   "execution_count": null,
   "outputs": [],
   "source": [
    "import numpy as np\n",
    "\n",
    "np.mean(np.abs((generated_df2.A - generated_df2.AVG_Arousal)))"
   ],
   "metadata": {
    "collapsed": false
   }
  },
  {
   "cell_type": "code",
   "execution_count": null,
   "outputs": [],
   "source": [
    "np.mean(np.abs((generated_df2.V - generated_df2.AVG_Valence)))"
   ],
   "metadata": {
    "collapsed": false
   }
  },
  {
   "cell_type": "code",
   "execution_count": null,
   "outputs": [],
   "source": [
    "np.mean(np.abs((deap_df2.A - deap_df2.AVG_Arousal)))\n"
   ],
   "metadata": {
    "collapsed": false
   }
  },
  {
   "cell_type": "code",
   "execution_count": null,
   "outputs": [],
   "source": [
    "np.mean(np.abs((deap_df2.V - deap_df2.AVG_Valence)))"
   ],
   "metadata": {
    "collapsed": false
   }
  },
  {
   "cell_type": "code",
   "execution_count": null,
   "outputs": [],
   "source": [],
   "metadata": {
    "collapsed": false
   }
  }
 ],
 "metadata": {
  "kernelspec": {
   "name": "torch-gpu",
   "language": "python",
   "display_name": "torch-gpu"
  },
  "language_info": {
   "codemirror_mode": {
    "name": "ipython",
    "version": 3
   },
   "file_extension": ".py",
   "mimetype": "text/x-python",
   "name": "python",
   "nbconvert_exporter": "python",
   "pygments_lexer": "ipython3",
   "version": "3.9.13"
  }
 },
 "nbformat": 4,
 "nbformat_minor": 5
}
