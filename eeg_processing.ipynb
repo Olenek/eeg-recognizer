{
 "cells": [
  {
   "cell_type": "code",
   "execution_count": 1,
   "outputs": [],
   "source": [
    "import os\n",
    "\n",
    "import numpy as np"
   ],
   "metadata": {
    "collapsed": false
   }
  },
  {
   "cell_type": "code",
   "execution_count": 2,
   "outputs": [],
   "source": [
    "from src.utils import read_eeg_signal_from_file\n",
    "\n",
    "labels = []\n",
    "data = []\n",
    "baseline = []\n",
    "\n",
    "data_path = 'data/data_preprocessed_python'\n",
    "\n",
    "for filename in os.listdir('data/data_preprocessed_python'):\n",
    "    file_path = os.path.join(data_path, filename)\n",
    "    trial = read_eeg_signal_from_file(file_path)\n",
    "    labels.append(trial['labels'])\n",
    "    data.append(trial['data'][:, :32, :])  # leave only eeg channels\n",
    "\n",
    "labels = np.array(labels)\n",
    "data = np.array(data)"
   ],
   "metadata": {
    "collapsed": false
   }
  },
  {
   "cell_type": "code",
   "execution_count": 3,
   "outputs": [
    {
     "data": {
      "text/plain": "(32, 40, 32, 8064)"
     },
     "execution_count": 3,
     "metadata": {},
     "output_type": "execute_result"
    }
   ],
   "source": [
    "data.shape"
   ],
   "metadata": {
    "collapsed": false
   }
  },
  {
   "cell_type": "code",
   "execution_count": 4,
   "outputs": [
    {
     "data": {
      "text/plain": "(32, 40, 4)"
     },
     "execution_count": 4,
     "metadata": {},
     "output_type": "execute_result"
    }
   ],
   "source": [
    "labels.shape"
   ],
   "metadata": {
    "collapsed": false
   }
  },
  {
   "cell_type": "markdown",
   "source": [
    "8064 points at 128 Hz -> 63 seconds of EEG readings [3 seconds of baseline, before stimuli]\n",
    "\n",
    "Strategy for creating extracts:\n",
    "\n",
    "Compute sample mean and variance on first 3 seconds (32 pairs of values) $\\hat \\mu_0, \\hat s_0^2$\n",
    "\n",
    "Drop 3 seconds after the baseline\n",
    "\n",
    "Make windows of length 7 seconds on the rest 57 seconds\n",
    "\n",
    "Set Hop between windows at 1 seconds for 50 7 second length (128 x 7 = 896 points) segments\n",
    "\n",
    "For each segment $R_i$, resulting train data is $X_i = \\frac{R_i - \\hat mu_0}{\\hat s_0^2}$\n"
   ],
   "metadata": {
    "collapsed": false
   }
  },
  {
   "cell_type": "code",
   "execution_count": 5,
   "outputs": [
    {
     "name": "stderr",
     "output_type": "stream",
     "text": [
      "100%|██████████| 32/32 [00:04<00:00,  7.14it/s]\n"
     ]
    }
   ],
   "source": [
    "from tqdm import tqdm\n",
    "from src.fourier import psd_from_eeg\n",
    "\n",
    "psd_config = dict(\n",
    "    selected_channels=[1, 2, 3, 4, 6, 11, 13, 17, 19, 20, 21, 25, 29, 31],\n",
    "    freq_bands={\n",
    "        'Theta': [4, 8],\n",
    "        'Alpha': [8, 12],\n",
    "        'Low Beta': [12, 18],\n",
    "        'High Beta': [18, 30],\n",
    "        'Gamma': [30, 45]},\n",
    "    window_size=128 * 5,\n",
    "    step_size=128 * 5,\n",
    "    sample_rate=128,\n",
    "    two_dim=False\n",
    ")\n",
    "\n",
    "X = []\n",
    "for participant_data in tqdm(data):\n",
    "    t = []\n",
    "    for readings in participant_data:\n",
    "        subset = readings.T[128 * 25:128 * 40]\n",
    "        window_psds = psd_from_eeg(subset, **psd_config)\n",
    "        t.append(np.concatenate(window_psds))\n",
    "    X.append(t)\n",
    "X = np.array(X, dtype=np.float32)"
   ],
   "metadata": {
    "collapsed": false
   }
  },
  {
   "cell_type": "code",
   "execution_count": 6,
   "outputs": [
    {
     "data": {
      "text/plain": "(32, 40, 210)"
     },
     "execution_count": 6,
     "metadata": {},
     "output_type": "execute_result"
    }
   ],
   "source": [
    "X.shape"
   ],
   "metadata": {
    "collapsed": false
   }
  },
  {
   "cell_type": "code",
   "execution_count": 7,
   "outputs": [],
   "source": [
    "Y = []\n",
    "for i in range(X.shape[0]):\n",
    "    _y = []\n",
    "    for j in range(X.shape[1]):\n",
    "        _y.append(labels[i][j][:2])\n",
    "    Y.append(_y)\n",
    "Y = np.array(Y, dtype=np.float32)"
   ],
   "metadata": {
    "collapsed": false
   }
  },
  {
   "cell_type": "code",
   "execution_count": 8,
   "outputs": [
    {
     "name": "stdout",
     "output_type": "stream",
     "text": [
      "(32, 40, 210)\n",
      "(32, 40, 2)\n"
     ]
    }
   ],
   "source": [
    "print(X.shape)\n",
    "print(Y.shape)"
   ],
   "metadata": {
    "collapsed": false
   }
  },
  {
   "cell_type": "code",
   "execution_count": 14,
   "outputs": [],
   "source": [
    "_x = X.reshape((-1, X.shape[-1]))\n",
    "_y = Y.reshape((-1, Y.shape[-1]))"
   ],
   "metadata": {
    "collapsed": false
   }
  },
  {
   "cell_type": "code",
   "execution_count": 15,
   "outputs": [],
   "source": [
    "from sklearn.model_selection import train_test_split\n",
    "\n",
    "X_train, X_val, Y_train, Y_val = train_test_split(_x, _y, test_size=0.2)"
   ],
   "metadata": {
    "collapsed": false
   }
  },
  {
   "cell_type": "code",
   "execution_count": 16,
   "outputs": [
    {
     "name": "stdout",
     "output_type": "stream",
     "text": [
      "(1024, 210)\n",
      "(256, 210)\n"
     ]
    }
   ],
   "source": [
    "print(X_train.shape)\n",
    "print(X_val.shape)"
   ],
   "metadata": {
    "collapsed": false
   }
  },
  {
   "cell_type": "code",
   "execution_count": 19,
   "outputs": [],
   "source": [
    "with open('dataset.npz', 'wb') as f:\n",
    "    np.savez(f,\n",
    "             train_x=X_train, val_x=X_val,\n",
    "             train_y=Y_train, val_y=Y_val,\n",
    "             )"
   ],
   "metadata": {
    "collapsed": false
   }
  },
  {
   "cell_type": "code",
   "execution_count": null,
   "outputs": [],
   "source": [],
   "metadata": {
    "collapsed": false
   }
  }
 ],
 "metadata": {
  "kernelspec": {
   "display_name": "Python 3",
   "language": "python",
   "name": "python3"
  },
  "language_info": {
   "codemirror_mode": {
    "name": "ipython",
    "version": 2
   },
   "file_extension": ".py",
   "mimetype": "text/x-python",
   "name": "python",
   "nbconvert_exporter": "python",
   "pygments_lexer": "ipython2",
   "version": "2.7.6"
  }
 },
 "nbformat": 4,
 "nbformat_minor": 0
}
