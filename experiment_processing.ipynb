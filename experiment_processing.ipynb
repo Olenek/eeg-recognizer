{
 "cells": [
  {
   "cell_type": "code",
   "execution_count": 80,
   "metadata": {
    "collapsed": true
   },
   "outputs": [
    {
     "data": {
      "text/plain": "    track_id  eeg_name    V    A\n27         1  DA0310F5 -0.3  0.7\n20         2  DA0310EY  0.6  0.6\n23         3  DA0310F1  0.1  0.4\n31         4  DA0310F9  0.1  0.9\n24         5  DA0310F2  0.3  0.5",
      "text/html": "<div>\n<style scoped>\n    .dataframe tbody tr th:only-of-type {\n        vertical-align: middle;\n    }\n\n    .dataframe tbody tr th {\n        vertical-align: top;\n    }\n\n    .dataframe thead th {\n        text-align: right;\n    }\n</style>\n<table border=\"1\" class=\"dataframe\">\n  <thead>\n    <tr style=\"text-align: right;\">\n      <th></th>\n      <th>track_id</th>\n      <th>eeg_name</th>\n      <th>V</th>\n      <th>A</th>\n    </tr>\n  </thead>\n  <tbody>\n    <tr>\n      <th>27</th>\n      <td>1</td>\n      <td>DA0310F5</td>\n      <td>-0.3</td>\n      <td>0.7</td>\n    </tr>\n    <tr>\n      <th>20</th>\n      <td>2</td>\n      <td>DA0310EY</td>\n      <td>0.6</td>\n      <td>0.6</td>\n    </tr>\n    <tr>\n      <th>23</th>\n      <td>3</td>\n      <td>DA0310F1</td>\n      <td>0.1</td>\n      <td>0.4</td>\n    </tr>\n    <tr>\n      <th>31</th>\n      <td>4</td>\n      <td>DA0310F9</td>\n      <td>0.1</td>\n      <td>0.9</td>\n    </tr>\n    <tr>\n      <th>24</th>\n      <td>5</td>\n      <td>DA0310F2</td>\n      <td>0.3</td>\n      <td>0.5</td>\n    </tr>\n  </tbody>\n</table>\n</div>"
     },
     "execution_count": 80,
     "metadata": {},
     "output_type": "execute_result"
    }
   ],
   "source": [
    "import pandas as pd\n",
    "\n",
    "df = pd.read_csv('eeg-experiment/experiment.csv').sort_values(by='track_id')\n",
    "df.head()"
   ]
  },
  {
   "cell_type": "code",
   "execution_count": 125,
   "outputs": [],
   "source": [
    "import mne\n",
    "import numpy as np\n",
    "import pandas as pd\n",
    "\n",
    "def process_reading(filename):\n",
    "    with mne.utils.use_log_level(False):\n",
    "        data = mne.io.read_raw_edf(filename)\n",
    "        raw_data = mne.filter.filter_data(data.resample(128).set_eeg_reference(ref_channels='average').get_data(), sfreq=128, l_freq=4, h_freq=45)\n",
    "        channels = data.ch_names\n",
    "        index_split = lambda x: x.split('\\t')[1].strip()\n",
    "        with open('eeg-experiment/data/channels.txt', 'r') as f:\n",
    "            selected_channels = list(map(index_split, f.readlines()))\n",
    "\n",
    "        channel_indices = []\n",
    "        for channel in selected_channels:\n",
    "            channel_indices.append(channels.index(channel))\n",
    "\n",
    "    to_pad = np.array(raw_data)[channel_indices]\n",
    "    return pd.DataFrame(np.pad(to_pad, [(0, 0), (0, 8064 - to_pad.shape[1])]))"
   ],
   "metadata": {
    "collapsed": false
   }
  },
  {
   "cell_type": "code",
   "execution_count": 126,
   "outputs": [
    {
     "data": {
      "text/plain": "            0         1         2         3         4         5         6     \\\n0  -3.610393e-17 -0.036724 -0.080811 -0.098532 -0.149882 -0.170933 -0.182987   \n1   2.146720e-17 -0.036698 -0.080790 -0.098512 -0.149850 -0.170905 -0.182954   \n2   7.516232e-17 -0.036676 -0.080781 -0.098507 -0.149835 -0.170890 -0.182940   \n3   5.933296e-17 -0.036702 -0.080796 -0.098514 -0.149853 -0.170907 -0.182951   \n4   3.016793e-17 -0.036711 -0.080806 -0.098518 -0.149847 -0.170902 -0.182950   \n5  -2.696953e-18 -0.036700 -0.080787 -0.098514 -0.149854 -0.170908 -0.182954   \n6   6.348004e-17 -0.036688 -0.080780 -0.098499 -0.149845 -0.170920 -0.182965   \n7   9.242824e-18 -0.036720 -0.080790 -0.098511 -0.149860 -0.170915 -0.182966   \n8   6.209768e-17 -0.036692 -0.080778 -0.098502 -0.149844 -0.170908 -0.182950   \n9   2.835189e-17 -0.036704 -0.080793 -0.098513 -0.149863 -0.170934 -0.182974   \n10  3.629367e-17 -0.036711 -0.080805 -0.098521 -0.149862 -0.170929 -0.182968   \n11  3.924812e-17 -0.036743 -0.080850 -0.098563 -0.149877 -0.170931 -0.182980   \n12  8.004123e-17 -0.036729 -0.080819 -0.098541 -0.149876 -0.170929 -0.182970   \n13 -3.678156e-17 -0.036729 -0.080817 -0.098539 -0.149874 -0.170926 -0.182966   \n14 -9.161508e-18 -0.036714 -0.080808 -0.098529 -0.149866 -0.170923 -0.182957   \n15  4.052206e-18 -0.036711 -0.080809 -0.098529 -0.149867 -0.170928 -0.182964   \n16  1.290201e-17 -0.036713 -0.080816 -0.098531 -0.149872 -0.170927 -0.182978   \n17  3.424724e-17 -0.036705 -0.080785 -0.098519 -0.149865 -0.170913 -0.182960   \n18  2.364916e-17 -0.036693 -0.080791 -0.098516 -0.149855 -0.170910 -0.182949   \n19  2.541099e-17 -0.036709 -0.080805 -0.098528 -0.149868 -0.170917 -0.182953   \n20  4.049495e-17 -0.036715 -0.080811 -0.098535 -0.149876 -0.170931 -0.182974   \n21  2.574980e-18 -0.036726 -0.080818 -0.098540 -0.149878 -0.170924 -0.182963   \n22 -3.199752e-17 -0.036690 -0.080792 -0.098515 -0.149853 -0.170912 -0.182944   \n23  1.084202e-19 -0.036695 -0.080786 -0.098511 -0.149859 -0.170918 -0.182952   \n24  2.840610e-17 -0.036707 -0.080810 -0.098526 -0.149860 -0.170917 -0.182949   \n25 -3.442342e-17 -0.036715 -0.080829 -0.098548 -0.149882 -0.170941 -0.182976   \n26 -4.901949e-17 -0.036700 -0.080807 -0.098525 -0.149861 -0.170923 -0.182952   \n27  8.944668e-19 -0.036707 -0.080806 -0.098527 -0.149865 -0.170922 -0.182958   \n28  3.877378e-17 -0.036706 -0.080807 -0.098530 -0.149866 -0.170921 -0.182952   \n29  2.794531e-17 -0.036720 -0.080805 -0.098532 -0.149866 -0.170918 -0.182965   \n30  9.954331e-17 -0.036717 -0.080806 -0.098534 -0.149872 -0.170923 -0.182959   \n31  1.188557e-17 -0.036717 -0.080805 -0.098533 -0.149872 -0.170922 -0.182959   \n\n        7         8         9     ...  8054  8055  8056  8057  8058  8059  \\\n0  -0.273533 -0.117537  0.184956  ...   0.0   0.0   0.0   0.0   0.0   0.0   \n1  -0.273487 -0.117521  0.184934  ...   0.0   0.0   0.0   0.0   0.0   0.0   \n2  -0.273474 -0.117516  0.184932  ...   0.0   0.0   0.0   0.0   0.0   0.0   \n3  -0.273478 -0.117512  0.184933  ...   0.0   0.0   0.0   0.0   0.0   0.0   \n4  -0.273471 -0.117512  0.184922  ...   0.0   0.0   0.0   0.0   0.0   0.0   \n5  -0.273474 -0.117514  0.184925  ...   0.0   0.0   0.0   0.0   0.0   0.0   \n6  -0.273478 -0.117517  0.184925  ...   0.0   0.0   0.0   0.0   0.0   0.0   \n7  -0.273479 -0.117506  0.184927  ...   0.0   0.0   0.0   0.0   0.0   0.0   \n8  -0.273454 -0.117501  0.184920  ...   0.0   0.0   0.0   0.0   0.0   0.0   \n9  -0.273475 -0.117508  0.184927  ...   0.0   0.0   0.0   0.0   0.0   0.0   \n10 -0.273462 -0.117499  0.184919  ...   0.0   0.0   0.0   0.0   0.0   0.0   \n11 -0.273476 -0.117511  0.184912  ...   0.0   0.0   0.0   0.0   0.0   0.0   \n12 -0.273455 -0.117491  0.184913  ...   0.0   0.0   0.0   0.0   0.0   0.0   \n13 -0.273449 -0.117488  0.184909  ...   0.0   0.0   0.0   0.0   0.0   0.0   \n14 -0.273446 -0.117488  0.184915  ...   0.0   0.0   0.0   0.0   0.0   0.0   \n15 -0.273461 -0.117500  0.184920  ...   0.0   0.0   0.0   0.0   0.0   0.0   \n16 -0.273525 -0.117537  0.184954  ...   0.0   0.0   0.0   0.0   0.0   0.0   \n17 -0.273483 -0.117515  0.184936  ...   0.0   0.0   0.0   0.0   0.0   0.0   \n18 -0.273475 -0.117516  0.184932  ...   0.0   0.0   0.0   0.0   0.0   0.0   \n19 -0.273482 -0.117523  0.184931  ...   0.0   0.0   0.0   0.0   0.0   0.0   \n20 -0.273496 -0.117523  0.184934  ...   0.0   0.0   0.0   0.0   0.0   0.0   \n21 -0.273477 -0.117515  0.184921  ...   0.0   0.0   0.0   0.0   0.0   0.0   \n22 -0.273464 -0.117512  0.184929  ...   0.0   0.0   0.0   0.0   0.0   0.0   \n23 -0.273466 -0.117508  0.184928  ...   0.0   0.0   0.0   0.0   0.0   0.0   \n24 -0.273462 -0.117509  0.184925  ...   0.0   0.0   0.0   0.0   0.0   0.0   \n25 -0.273486 -0.117519  0.184924  ...   0.0   0.0   0.0   0.0   0.0   0.0   \n26 -0.273459 -0.117508  0.184922  ...   0.0   0.0   0.0   0.0   0.0   0.0   \n27 -0.273469 -0.117511  0.184922  ...   0.0   0.0   0.0   0.0   0.0   0.0   \n28 -0.273450 -0.117499  0.184915  ...   0.0   0.0   0.0   0.0   0.0   0.0   \n29 -0.273467 -0.117508  0.184913  ...   0.0   0.0   0.0   0.0   0.0   0.0   \n30 -0.273447 -0.117489  0.184914  ...   0.0   0.0   0.0   0.0   0.0   0.0   \n31 -0.273447 -0.117488  0.184914  ...   0.0   0.0   0.0   0.0   0.0   0.0   \n\n    8060  8061  8062  8063  \n0    0.0   0.0   0.0   0.0  \n1    0.0   0.0   0.0   0.0  \n2    0.0   0.0   0.0   0.0  \n3    0.0   0.0   0.0   0.0  \n4    0.0   0.0   0.0   0.0  \n5    0.0   0.0   0.0   0.0  \n6    0.0   0.0   0.0   0.0  \n7    0.0   0.0   0.0   0.0  \n8    0.0   0.0   0.0   0.0  \n9    0.0   0.0   0.0   0.0  \n10   0.0   0.0   0.0   0.0  \n11   0.0   0.0   0.0   0.0  \n12   0.0   0.0   0.0   0.0  \n13   0.0   0.0   0.0   0.0  \n14   0.0   0.0   0.0   0.0  \n15   0.0   0.0   0.0   0.0  \n16   0.0   0.0   0.0   0.0  \n17   0.0   0.0   0.0   0.0  \n18   0.0   0.0   0.0   0.0  \n19   0.0   0.0   0.0   0.0  \n20   0.0   0.0   0.0   0.0  \n21   0.0   0.0   0.0   0.0  \n22   0.0   0.0   0.0   0.0  \n23   0.0   0.0   0.0   0.0  \n24   0.0   0.0   0.0   0.0  \n25   0.0   0.0   0.0   0.0  \n26   0.0   0.0   0.0   0.0  \n27   0.0   0.0   0.0   0.0  \n28   0.0   0.0   0.0   0.0  \n29   0.0   0.0   0.0   0.0  \n30   0.0   0.0   0.0   0.0  \n31   0.0   0.0   0.0   0.0  \n\n[32 rows x 8064 columns]",
      "text/html": "<div>\n<style scoped>\n    .dataframe tbody tr th:only-of-type {\n        vertical-align: middle;\n    }\n\n    .dataframe tbody tr th {\n        vertical-align: top;\n    }\n\n    .dataframe thead th {\n        text-align: right;\n    }\n</style>\n<table border=\"1\" class=\"dataframe\">\n  <thead>\n    <tr style=\"text-align: right;\">\n      <th></th>\n      <th>0</th>\n      <th>1</th>\n      <th>2</th>\n      <th>3</th>\n      <th>4</th>\n      <th>5</th>\n      <th>6</th>\n      <th>7</th>\n      <th>8</th>\n      <th>9</th>\n      <th>...</th>\n      <th>8054</th>\n      <th>8055</th>\n      <th>8056</th>\n      <th>8057</th>\n      <th>8058</th>\n      <th>8059</th>\n      <th>8060</th>\n      <th>8061</th>\n      <th>8062</th>\n      <th>8063</th>\n    </tr>\n  </thead>\n  <tbody>\n    <tr>\n      <th>0</th>\n      <td>-3.610393e-17</td>\n      <td>-0.036724</td>\n      <td>-0.080811</td>\n      <td>-0.098532</td>\n      <td>-0.149882</td>\n      <td>-0.170933</td>\n      <td>-0.182987</td>\n      <td>-0.273533</td>\n      <td>-0.117537</td>\n      <td>0.184956</td>\n      <td>...</td>\n      <td>0.0</td>\n      <td>0.0</td>\n      <td>0.0</td>\n      <td>0.0</td>\n      <td>0.0</td>\n      <td>0.0</td>\n      <td>0.0</td>\n      <td>0.0</td>\n      <td>0.0</td>\n      <td>0.0</td>\n    </tr>\n    <tr>\n      <th>1</th>\n      <td>2.146720e-17</td>\n      <td>-0.036698</td>\n      <td>-0.080790</td>\n      <td>-0.098512</td>\n      <td>-0.149850</td>\n      <td>-0.170905</td>\n      <td>-0.182954</td>\n      <td>-0.273487</td>\n      <td>-0.117521</td>\n      <td>0.184934</td>\n      <td>...</td>\n      <td>0.0</td>\n      <td>0.0</td>\n      <td>0.0</td>\n      <td>0.0</td>\n      <td>0.0</td>\n      <td>0.0</td>\n      <td>0.0</td>\n      <td>0.0</td>\n      <td>0.0</td>\n      <td>0.0</td>\n    </tr>\n    <tr>\n      <th>2</th>\n      <td>7.516232e-17</td>\n      <td>-0.036676</td>\n      <td>-0.080781</td>\n      <td>-0.098507</td>\n      <td>-0.149835</td>\n      <td>-0.170890</td>\n      <td>-0.182940</td>\n      <td>-0.273474</td>\n      <td>-0.117516</td>\n      <td>0.184932</td>\n      <td>...</td>\n      <td>0.0</td>\n      <td>0.0</td>\n      <td>0.0</td>\n      <td>0.0</td>\n      <td>0.0</td>\n      <td>0.0</td>\n      <td>0.0</td>\n      <td>0.0</td>\n      <td>0.0</td>\n      <td>0.0</td>\n    </tr>\n    <tr>\n      <th>3</th>\n      <td>5.933296e-17</td>\n      <td>-0.036702</td>\n      <td>-0.080796</td>\n      <td>-0.098514</td>\n      <td>-0.149853</td>\n      <td>-0.170907</td>\n      <td>-0.182951</td>\n      <td>-0.273478</td>\n      <td>-0.117512</td>\n      <td>0.184933</td>\n      <td>...</td>\n      <td>0.0</td>\n      <td>0.0</td>\n      <td>0.0</td>\n      <td>0.0</td>\n      <td>0.0</td>\n      <td>0.0</td>\n      <td>0.0</td>\n      <td>0.0</td>\n      <td>0.0</td>\n      <td>0.0</td>\n    </tr>\n    <tr>\n      <th>4</th>\n      <td>3.016793e-17</td>\n      <td>-0.036711</td>\n      <td>-0.080806</td>\n      <td>-0.098518</td>\n      <td>-0.149847</td>\n      <td>-0.170902</td>\n      <td>-0.182950</td>\n      <td>-0.273471</td>\n      <td>-0.117512</td>\n      <td>0.184922</td>\n      <td>...</td>\n      <td>0.0</td>\n      <td>0.0</td>\n      <td>0.0</td>\n      <td>0.0</td>\n      <td>0.0</td>\n      <td>0.0</td>\n      <td>0.0</td>\n      <td>0.0</td>\n      <td>0.0</td>\n      <td>0.0</td>\n    </tr>\n    <tr>\n      <th>5</th>\n      <td>-2.696953e-18</td>\n      <td>-0.036700</td>\n      <td>-0.080787</td>\n      <td>-0.098514</td>\n      <td>-0.149854</td>\n      <td>-0.170908</td>\n      <td>-0.182954</td>\n      <td>-0.273474</td>\n      <td>-0.117514</td>\n      <td>0.184925</td>\n      <td>...</td>\n      <td>0.0</td>\n      <td>0.0</td>\n      <td>0.0</td>\n      <td>0.0</td>\n      <td>0.0</td>\n      <td>0.0</td>\n      <td>0.0</td>\n      <td>0.0</td>\n      <td>0.0</td>\n      <td>0.0</td>\n    </tr>\n    <tr>\n      <th>6</th>\n      <td>6.348004e-17</td>\n      <td>-0.036688</td>\n      <td>-0.080780</td>\n      <td>-0.098499</td>\n      <td>-0.149845</td>\n      <td>-0.170920</td>\n      <td>-0.182965</td>\n      <td>-0.273478</td>\n      <td>-0.117517</td>\n      <td>0.184925</td>\n      <td>...</td>\n      <td>0.0</td>\n      <td>0.0</td>\n      <td>0.0</td>\n      <td>0.0</td>\n      <td>0.0</td>\n      <td>0.0</td>\n      <td>0.0</td>\n      <td>0.0</td>\n      <td>0.0</td>\n      <td>0.0</td>\n    </tr>\n    <tr>\n      <th>7</th>\n      <td>9.242824e-18</td>\n      <td>-0.036720</td>\n      <td>-0.080790</td>\n      <td>-0.098511</td>\n      <td>-0.149860</td>\n      <td>-0.170915</td>\n      <td>-0.182966</td>\n      <td>-0.273479</td>\n      <td>-0.117506</td>\n      <td>0.184927</td>\n      <td>...</td>\n      <td>0.0</td>\n      <td>0.0</td>\n      <td>0.0</td>\n      <td>0.0</td>\n      <td>0.0</td>\n      <td>0.0</td>\n      <td>0.0</td>\n      <td>0.0</td>\n      <td>0.0</td>\n      <td>0.0</td>\n    </tr>\n    <tr>\n      <th>8</th>\n      <td>6.209768e-17</td>\n      <td>-0.036692</td>\n      <td>-0.080778</td>\n      <td>-0.098502</td>\n      <td>-0.149844</td>\n      <td>-0.170908</td>\n      <td>-0.182950</td>\n      <td>-0.273454</td>\n      <td>-0.117501</td>\n      <td>0.184920</td>\n      <td>...</td>\n      <td>0.0</td>\n      <td>0.0</td>\n      <td>0.0</td>\n      <td>0.0</td>\n      <td>0.0</td>\n      <td>0.0</td>\n      <td>0.0</td>\n      <td>0.0</td>\n      <td>0.0</td>\n      <td>0.0</td>\n    </tr>\n    <tr>\n      <th>9</th>\n      <td>2.835189e-17</td>\n      <td>-0.036704</td>\n      <td>-0.080793</td>\n      <td>-0.098513</td>\n      <td>-0.149863</td>\n      <td>-0.170934</td>\n      <td>-0.182974</td>\n      <td>-0.273475</td>\n      <td>-0.117508</td>\n      <td>0.184927</td>\n      <td>...</td>\n      <td>0.0</td>\n      <td>0.0</td>\n      <td>0.0</td>\n      <td>0.0</td>\n      <td>0.0</td>\n      <td>0.0</td>\n      <td>0.0</td>\n      <td>0.0</td>\n      <td>0.0</td>\n      <td>0.0</td>\n    </tr>\n    <tr>\n      <th>10</th>\n      <td>3.629367e-17</td>\n      <td>-0.036711</td>\n      <td>-0.080805</td>\n      <td>-0.098521</td>\n      <td>-0.149862</td>\n      <td>-0.170929</td>\n      <td>-0.182968</td>\n      <td>-0.273462</td>\n      <td>-0.117499</td>\n      <td>0.184919</td>\n      <td>...</td>\n      <td>0.0</td>\n      <td>0.0</td>\n      <td>0.0</td>\n      <td>0.0</td>\n      <td>0.0</td>\n      <td>0.0</td>\n      <td>0.0</td>\n      <td>0.0</td>\n      <td>0.0</td>\n      <td>0.0</td>\n    </tr>\n    <tr>\n      <th>11</th>\n      <td>3.924812e-17</td>\n      <td>-0.036743</td>\n      <td>-0.080850</td>\n      <td>-0.098563</td>\n      <td>-0.149877</td>\n      <td>-0.170931</td>\n      <td>-0.182980</td>\n      <td>-0.273476</td>\n      <td>-0.117511</td>\n      <td>0.184912</td>\n      <td>...</td>\n      <td>0.0</td>\n      <td>0.0</td>\n      <td>0.0</td>\n      <td>0.0</td>\n      <td>0.0</td>\n      <td>0.0</td>\n      <td>0.0</td>\n      <td>0.0</td>\n      <td>0.0</td>\n      <td>0.0</td>\n    </tr>\n    <tr>\n      <th>12</th>\n      <td>8.004123e-17</td>\n      <td>-0.036729</td>\n      <td>-0.080819</td>\n      <td>-0.098541</td>\n      <td>-0.149876</td>\n      <td>-0.170929</td>\n      <td>-0.182970</td>\n      <td>-0.273455</td>\n      <td>-0.117491</td>\n      <td>0.184913</td>\n      <td>...</td>\n      <td>0.0</td>\n      <td>0.0</td>\n      <td>0.0</td>\n      <td>0.0</td>\n      <td>0.0</td>\n      <td>0.0</td>\n      <td>0.0</td>\n      <td>0.0</td>\n      <td>0.0</td>\n      <td>0.0</td>\n    </tr>\n    <tr>\n      <th>13</th>\n      <td>-3.678156e-17</td>\n      <td>-0.036729</td>\n      <td>-0.080817</td>\n      <td>-0.098539</td>\n      <td>-0.149874</td>\n      <td>-0.170926</td>\n      <td>-0.182966</td>\n      <td>-0.273449</td>\n      <td>-0.117488</td>\n      <td>0.184909</td>\n      <td>...</td>\n      <td>0.0</td>\n      <td>0.0</td>\n      <td>0.0</td>\n      <td>0.0</td>\n      <td>0.0</td>\n      <td>0.0</td>\n      <td>0.0</td>\n      <td>0.0</td>\n      <td>0.0</td>\n      <td>0.0</td>\n    </tr>\n    <tr>\n      <th>14</th>\n      <td>-9.161508e-18</td>\n      <td>-0.036714</td>\n      <td>-0.080808</td>\n      <td>-0.098529</td>\n      <td>-0.149866</td>\n      <td>-0.170923</td>\n      <td>-0.182957</td>\n      <td>-0.273446</td>\n      <td>-0.117488</td>\n      <td>0.184915</td>\n      <td>...</td>\n      <td>0.0</td>\n      <td>0.0</td>\n      <td>0.0</td>\n      <td>0.0</td>\n      <td>0.0</td>\n      <td>0.0</td>\n      <td>0.0</td>\n      <td>0.0</td>\n      <td>0.0</td>\n      <td>0.0</td>\n    </tr>\n    <tr>\n      <th>15</th>\n      <td>4.052206e-18</td>\n      <td>-0.036711</td>\n      <td>-0.080809</td>\n      <td>-0.098529</td>\n      <td>-0.149867</td>\n      <td>-0.170928</td>\n      <td>-0.182964</td>\n      <td>-0.273461</td>\n      <td>-0.117500</td>\n      <td>0.184920</td>\n      <td>...</td>\n      <td>0.0</td>\n      <td>0.0</td>\n      <td>0.0</td>\n      <td>0.0</td>\n      <td>0.0</td>\n      <td>0.0</td>\n      <td>0.0</td>\n      <td>0.0</td>\n      <td>0.0</td>\n      <td>0.0</td>\n    </tr>\n    <tr>\n      <th>16</th>\n      <td>1.290201e-17</td>\n      <td>-0.036713</td>\n      <td>-0.080816</td>\n      <td>-0.098531</td>\n      <td>-0.149872</td>\n      <td>-0.170927</td>\n      <td>-0.182978</td>\n      <td>-0.273525</td>\n      <td>-0.117537</td>\n      <td>0.184954</td>\n      <td>...</td>\n      <td>0.0</td>\n      <td>0.0</td>\n      <td>0.0</td>\n      <td>0.0</td>\n      <td>0.0</td>\n      <td>0.0</td>\n      <td>0.0</td>\n      <td>0.0</td>\n      <td>0.0</td>\n      <td>0.0</td>\n    </tr>\n    <tr>\n      <th>17</th>\n      <td>3.424724e-17</td>\n      <td>-0.036705</td>\n      <td>-0.080785</td>\n      <td>-0.098519</td>\n      <td>-0.149865</td>\n      <td>-0.170913</td>\n      <td>-0.182960</td>\n      <td>-0.273483</td>\n      <td>-0.117515</td>\n      <td>0.184936</td>\n      <td>...</td>\n      <td>0.0</td>\n      <td>0.0</td>\n      <td>0.0</td>\n      <td>0.0</td>\n      <td>0.0</td>\n      <td>0.0</td>\n      <td>0.0</td>\n      <td>0.0</td>\n      <td>0.0</td>\n      <td>0.0</td>\n    </tr>\n    <tr>\n      <th>18</th>\n      <td>2.364916e-17</td>\n      <td>-0.036693</td>\n      <td>-0.080791</td>\n      <td>-0.098516</td>\n      <td>-0.149855</td>\n      <td>-0.170910</td>\n      <td>-0.182949</td>\n      <td>-0.273475</td>\n      <td>-0.117516</td>\n      <td>0.184932</td>\n      <td>...</td>\n      <td>0.0</td>\n      <td>0.0</td>\n      <td>0.0</td>\n      <td>0.0</td>\n      <td>0.0</td>\n      <td>0.0</td>\n      <td>0.0</td>\n      <td>0.0</td>\n      <td>0.0</td>\n      <td>0.0</td>\n    </tr>\n    <tr>\n      <th>19</th>\n      <td>2.541099e-17</td>\n      <td>-0.036709</td>\n      <td>-0.080805</td>\n      <td>-0.098528</td>\n      <td>-0.149868</td>\n      <td>-0.170917</td>\n      <td>-0.182953</td>\n      <td>-0.273482</td>\n      <td>-0.117523</td>\n      <td>0.184931</td>\n      <td>...</td>\n      <td>0.0</td>\n      <td>0.0</td>\n      <td>0.0</td>\n      <td>0.0</td>\n      <td>0.0</td>\n      <td>0.0</td>\n      <td>0.0</td>\n      <td>0.0</td>\n      <td>0.0</td>\n      <td>0.0</td>\n    </tr>\n    <tr>\n      <th>20</th>\n      <td>4.049495e-17</td>\n      <td>-0.036715</td>\n      <td>-0.080811</td>\n      <td>-0.098535</td>\n      <td>-0.149876</td>\n      <td>-0.170931</td>\n      <td>-0.182974</td>\n      <td>-0.273496</td>\n      <td>-0.117523</td>\n      <td>0.184934</td>\n      <td>...</td>\n      <td>0.0</td>\n      <td>0.0</td>\n      <td>0.0</td>\n      <td>0.0</td>\n      <td>0.0</td>\n      <td>0.0</td>\n      <td>0.0</td>\n      <td>0.0</td>\n      <td>0.0</td>\n      <td>0.0</td>\n    </tr>\n    <tr>\n      <th>21</th>\n      <td>2.574980e-18</td>\n      <td>-0.036726</td>\n      <td>-0.080818</td>\n      <td>-0.098540</td>\n      <td>-0.149878</td>\n      <td>-0.170924</td>\n      <td>-0.182963</td>\n      <td>-0.273477</td>\n      <td>-0.117515</td>\n      <td>0.184921</td>\n      <td>...</td>\n      <td>0.0</td>\n      <td>0.0</td>\n      <td>0.0</td>\n      <td>0.0</td>\n      <td>0.0</td>\n      <td>0.0</td>\n      <td>0.0</td>\n      <td>0.0</td>\n      <td>0.0</td>\n      <td>0.0</td>\n    </tr>\n    <tr>\n      <th>22</th>\n      <td>-3.199752e-17</td>\n      <td>-0.036690</td>\n      <td>-0.080792</td>\n      <td>-0.098515</td>\n      <td>-0.149853</td>\n      <td>-0.170912</td>\n      <td>-0.182944</td>\n      <td>-0.273464</td>\n      <td>-0.117512</td>\n      <td>0.184929</td>\n      <td>...</td>\n      <td>0.0</td>\n      <td>0.0</td>\n      <td>0.0</td>\n      <td>0.0</td>\n      <td>0.0</td>\n      <td>0.0</td>\n      <td>0.0</td>\n      <td>0.0</td>\n      <td>0.0</td>\n      <td>0.0</td>\n    </tr>\n    <tr>\n      <th>23</th>\n      <td>1.084202e-19</td>\n      <td>-0.036695</td>\n      <td>-0.080786</td>\n      <td>-0.098511</td>\n      <td>-0.149859</td>\n      <td>-0.170918</td>\n      <td>-0.182952</td>\n      <td>-0.273466</td>\n      <td>-0.117508</td>\n      <td>0.184928</td>\n      <td>...</td>\n      <td>0.0</td>\n      <td>0.0</td>\n      <td>0.0</td>\n      <td>0.0</td>\n      <td>0.0</td>\n      <td>0.0</td>\n      <td>0.0</td>\n      <td>0.0</td>\n      <td>0.0</td>\n      <td>0.0</td>\n    </tr>\n    <tr>\n      <th>24</th>\n      <td>2.840610e-17</td>\n      <td>-0.036707</td>\n      <td>-0.080810</td>\n      <td>-0.098526</td>\n      <td>-0.149860</td>\n      <td>-0.170917</td>\n      <td>-0.182949</td>\n      <td>-0.273462</td>\n      <td>-0.117509</td>\n      <td>0.184925</td>\n      <td>...</td>\n      <td>0.0</td>\n      <td>0.0</td>\n      <td>0.0</td>\n      <td>0.0</td>\n      <td>0.0</td>\n      <td>0.0</td>\n      <td>0.0</td>\n      <td>0.0</td>\n      <td>0.0</td>\n      <td>0.0</td>\n    </tr>\n    <tr>\n      <th>25</th>\n      <td>-3.442342e-17</td>\n      <td>-0.036715</td>\n      <td>-0.080829</td>\n      <td>-0.098548</td>\n      <td>-0.149882</td>\n      <td>-0.170941</td>\n      <td>-0.182976</td>\n      <td>-0.273486</td>\n      <td>-0.117519</td>\n      <td>0.184924</td>\n      <td>...</td>\n      <td>0.0</td>\n      <td>0.0</td>\n      <td>0.0</td>\n      <td>0.0</td>\n      <td>0.0</td>\n      <td>0.0</td>\n      <td>0.0</td>\n      <td>0.0</td>\n      <td>0.0</td>\n      <td>0.0</td>\n    </tr>\n    <tr>\n      <th>26</th>\n      <td>-4.901949e-17</td>\n      <td>-0.036700</td>\n      <td>-0.080807</td>\n      <td>-0.098525</td>\n      <td>-0.149861</td>\n      <td>-0.170923</td>\n      <td>-0.182952</td>\n      <td>-0.273459</td>\n      <td>-0.117508</td>\n      <td>0.184922</td>\n      <td>...</td>\n      <td>0.0</td>\n      <td>0.0</td>\n      <td>0.0</td>\n      <td>0.0</td>\n      <td>0.0</td>\n      <td>0.0</td>\n      <td>0.0</td>\n      <td>0.0</td>\n      <td>0.0</td>\n      <td>0.0</td>\n    </tr>\n    <tr>\n      <th>27</th>\n      <td>8.944668e-19</td>\n      <td>-0.036707</td>\n      <td>-0.080806</td>\n      <td>-0.098527</td>\n      <td>-0.149865</td>\n      <td>-0.170922</td>\n      <td>-0.182958</td>\n      <td>-0.273469</td>\n      <td>-0.117511</td>\n      <td>0.184922</td>\n      <td>...</td>\n      <td>0.0</td>\n      <td>0.0</td>\n      <td>0.0</td>\n      <td>0.0</td>\n      <td>0.0</td>\n      <td>0.0</td>\n      <td>0.0</td>\n      <td>0.0</td>\n      <td>0.0</td>\n      <td>0.0</td>\n    </tr>\n    <tr>\n      <th>28</th>\n      <td>3.877378e-17</td>\n      <td>-0.036706</td>\n      <td>-0.080807</td>\n      <td>-0.098530</td>\n      <td>-0.149866</td>\n      <td>-0.170921</td>\n      <td>-0.182952</td>\n      <td>-0.273450</td>\n      <td>-0.117499</td>\n      <td>0.184915</td>\n      <td>...</td>\n      <td>0.0</td>\n      <td>0.0</td>\n      <td>0.0</td>\n      <td>0.0</td>\n      <td>0.0</td>\n      <td>0.0</td>\n      <td>0.0</td>\n      <td>0.0</td>\n      <td>0.0</td>\n      <td>0.0</td>\n    </tr>\n    <tr>\n      <th>29</th>\n      <td>2.794531e-17</td>\n      <td>-0.036720</td>\n      <td>-0.080805</td>\n      <td>-0.098532</td>\n      <td>-0.149866</td>\n      <td>-0.170918</td>\n      <td>-0.182965</td>\n      <td>-0.273467</td>\n      <td>-0.117508</td>\n      <td>0.184913</td>\n      <td>...</td>\n      <td>0.0</td>\n      <td>0.0</td>\n      <td>0.0</td>\n      <td>0.0</td>\n      <td>0.0</td>\n      <td>0.0</td>\n      <td>0.0</td>\n      <td>0.0</td>\n      <td>0.0</td>\n      <td>0.0</td>\n    </tr>\n    <tr>\n      <th>30</th>\n      <td>9.954331e-17</td>\n      <td>-0.036717</td>\n      <td>-0.080806</td>\n      <td>-0.098534</td>\n      <td>-0.149872</td>\n      <td>-0.170923</td>\n      <td>-0.182959</td>\n      <td>-0.273447</td>\n      <td>-0.117489</td>\n      <td>0.184914</td>\n      <td>...</td>\n      <td>0.0</td>\n      <td>0.0</td>\n      <td>0.0</td>\n      <td>0.0</td>\n      <td>0.0</td>\n      <td>0.0</td>\n      <td>0.0</td>\n      <td>0.0</td>\n      <td>0.0</td>\n      <td>0.0</td>\n    </tr>\n    <tr>\n      <th>31</th>\n      <td>1.188557e-17</td>\n      <td>-0.036717</td>\n      <td>-0.080805</td>\n      <td>-0.098533</td>\n      <td>-0.149872</td>\n      <td>-0.170922</td>\n      <td>-0.182959</td>\n      <td>-0.273447</td>\n      <td>-0.117488</td>\n      <td>0.184914</td>\n      <td>...</td>\n      <td>0.0</td>\n      <td>0.0</td>\n      <td>0.0</td>\n      <td>0.0</td>\n      <td>0.0</td>\n      <td>0.0</td>\n      <td>0.0</td>\n      <td>0.0</td>\n      <td>0.0</td>\n      <td>0.0</td>\n    </tr>\n  </tbody>\n</table>\n<p>32 rows × 8064 columns</p>\n</div>"
     },
     "execution_count": 126,
     "metadata": {},
     "output_type": "execute_result"
    }
   ],
   "source": [
    "process_reading('eeg-experiment/readings/DA0310F0.edf')"
   ],
   "metadata": {
    "collapsed": false
   }
  },
  {
   "cell_type": "code",
   "execution_count": 127,
   "outputs": [],
   "source": [
    "import os\n",
    "directory = 'eeg-experiment/readings'\n",
    "\n",
    "to_pickle = dict(data=[], labels=[])\n",
    "for filename in os.listdir(directory):\n",
    "    f = os.path.join(directory, filename)\n",
    "    row = df.loc[df['eeg_name'] == filename[:-4]].iloc[0]\n",
    "    to_pickle['labels'].append([row.V, row.A])\n",
    "    to_pickle['data'].append(process_reading(f))\n",
    "\n",
    "to_pickle['labels'] = np.array(to_pickle['labels'])\n",
    "to_pickle['data'] = np.array(to_pickle['data'])"
   ],
   "metadata": {
    "collapsed": false
   }
  },
  {
   "cell_type": "code",
   "execution_count": 3,
   "outputs": [
    {
     "ename": "NameError",
     "evalue": "name 'to_pickle' is not defined",
     "output_type": "error",
     "traceback": [
      "\u001B[1;31m---------------------------------------------------------------------------\u001B[0m",
      "\u001B[1;31mNameError\u001B[0m                                 Traceback (most recent call last)",
      "Cell \u001B[1;32mIn[3], line 3\u001B[0m\n\u001B[0;32m      1\u001B[0m \u001B[38;5;28;01mimport\u001B[39;00m \u001B[38;5;21;01mpickle\u001B[39;00m\n\u001B[1;32m----> 3\u001B[0m pickle\u001B[38;5;241m.\u001B[39mdump(\u001B[43mto_pickle\u001B[49m, file\u001B[38;5;241m=\u001B[39m\u001B[38;5;28mopen\u001B[39m(\u001B[38;5;124m'\u001B[39m\u001B[38;5;124meeg-experiment/experiment_processed.dat\u001B[39m\u001B[38;5;124m'\u001B[39m, \u001B[38;5;124m'\u001B[39m\u001B[38;5;124mwb\u001B[39m\u001B[38;5;124m'\u001B[39m))\n",
      "\u001B[1;31mNameError\u001B[0m: name 'to_pickle' is not defined"
     ]
    }
   ],
   "source": [
    "import pickle\n",
    "\n",
    "pickle.dump(to_pickle, file=open('eeg-experiment/experiment_processed.dat', 'wb'))"
   ],
   "metadata": {
    "collapsed": false
   }
  },
  {
   "cell_type": "code",
   "execution_count": 1,
   "outputs": [],
   "source": [
    "import numpy as np\n",
    "\n",
    "from src.utils import read_eeg_signal_from_file\n",
    "\n",
    "labels = []\n",
    "data = []\n",
    "\n",
    "trial = read_eeg_signal_from_file('eeg-experiment/experiment_processed.dat')\n",
    "labels.append(trial['labels'])\n",
    "data.append(trial['data'])"
   ],
   "metadata": {
    "collapsed": false
   }
  },
  {
   "cell_type": "code",
   "execution_count": 4,
   "outputs": [
    {
     "name": "stderr",
     "output_type": "stream",
     "text": [
      "100%|██████████| 1/1 [00:01<00:00,  1.14s/it]\n"
     ]
    },
    {
     "data": {
      "text/plain": "(1, 32, 6, 3, 28, 28)"
     },
     "execution_count": 4,
     "metadata": {},
     "output_type": "execute_result"
    }
   ],
   "source": [
    "from tqdm import tqdm\n",
    "from src.fourier import images_from_eeg\n",
    "\n",
    "\n",
    "SAMPLE_RATE = 128\n",
    "RESOLUTION = 28\n",
    "freq_bands = {'Theta': [4, 8],\n",
    "              'Alpha': [8, 16],\n",
    "              'Beta+Gamma': [16, 45]}\n",
    "psd_config = dict(\n",
    "    selected_channels=range(32),\n",
    "    freq_bands=freq_bands,\n",
    "    window_size=SAMPLE_RATE,\n",
    "    step_size=SAMPLE_RATE,\n",
    "    sample_rate=SAMPLE_RATE,\n",
    ")\n",
    "\n",
    "electrode_placement = pickle.load(open('data/electrode_placement.dat', 'rb'))\n",
    "\n",
    "X = []\n",
    "for participant_data in tqdm(data):\n",
    "    t = []\n",
    "    for readings in participant_data:\n",
    "        subset = readings.T[SAMPLE_RATE * 18: SAMPLE_RATE * 24]  # crop baseline\n",
    "        images = images_from_eeg(subset, **psd_config, loc_dict=electrode_placement, resolution=RESOLUTION)\n",
    "        t.append(images)\n",
    "    X.append(t)\n",
    "X = np.array(X, dtype=np.float32)\n",
    "X.shape"
   ],
   "metadata": {
    "collapsed": false
   }
  },
  {
   "cell_type": "code",
   "execution_count": 5,
   "outputs": [],
   "source": [
    "Y = []\n",
    "for i in range(X.shape[0]):\n",
    "    _y = []\n",
    "    for j in range(X.shape[1]):\n",
    "        _y.append(labels[i][j][:2])\n",
    "    Y.append(_y)\n",
    "Y = np.array(Y, dtype=np.float32)"
   ],
   "metadata": {
    "collapsed": false
   }
  },
  {
   "cell_type": "code",
   "execution_count": 6,
   "outputs": [],
   "source": [
    "pickle.dump(X, open('eeg-experiment/X.dat', 'wb'))\n",
    "pickle.dump(Y, open('eeg-experiment/Y.dat', 'wb'))"
   ],
   "metadata": {
    "collapsed": false
   }
  },
  {
   "cell_type": "code",
   "execution_count": null,
   "outputs": [],
   "source": [],
   "metadata": {
    "collapsed": false
   }
  }
 ],
 "metadata": {
  "kernelspec": {
   "name": "eeg-torch",
   "language": "python",
   "display_name": "eeg-torch"
  },
  "language_info": {
   "codemirror_mode": {
    "name": "ipython",
    "version": 2
   },
   "file_extension": ".py",
   "mimetype": "text/x-python",
   "name": "python",
   "nbconvert_exporter": "python",
   "pygments_lexer": "ipython2",
   "version": "2.7.6"
  }
 },
 "nbformat": 4,
 "nbformat_minor": 0
}
